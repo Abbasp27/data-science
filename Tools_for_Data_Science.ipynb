{
  "metadata": {
    "kernelspec": {
      "name": "python",
      "display_name": "Python (Pyodide)",
      "language": "python"
    },
    "language_info": {
      "codemirror_mode": {
        "name": "python",
        "version": 3
      },
      "file_extension": ".py",
      "mimetype": "text/x-python",
      "name": "python",
      "nbconvert_exporter": "python",
      "pygments_lexer": "ipython3",
      "version": "3.8"
    }
  },
  "nbformat_minor": 4,
  "nbformat": 4,
  "cells": [
    {
      "cell_type": "markdown",
      "source": "# Tools For Data Science Final Project Notebook",
      "metadata": {}
    },
    {
      "cell_type": "markdown",
      "source": "## Introduction  \nThis notebook contains examples and exercises related to data science, showcasing markdown and code cells for various tasks.  ",
      "metadata": {}
    },
    {
      "cell_type": "markdown",
      "source": "## Data Science Languages  \n- Python  \n- R  \n- SQL  \n- Julia  \n- Java  ",
      "metadata": {}
    },
    {
      "cell_type": "markdown",
      "source": "## Data Science Libraries  \n- NumPy  \n- Pandas  \n- Matplotlib  \n- Scikit-learn  \n- TensorFlow  ",
      "metadata": {}
    },
    {
      "cell_type": "markdown",
      "source": "## Data Science Tools  \n\n| Tool               | Description                          |  \n|--------------------|--------------------------------------|  \n| Jupyter Notebook   | Interactive coding and documentation|  \n| RStudio            | IDE for R programming               |  \n| Apache Spark       | Big data processing framework        |  ",
      "metadata": {}
    },
    {
      "cell_type": "markdown",
      "source": "## Arithmetic Expression Examples  \nThis section demonstrates basic arithmetic operations like addition and multiplication.  ",
      "metadata": {}
    },
    {
      "cell_type": "code",
      "source": "#multiplication and addition example\nmultiply=15*6\nadd=multiply+40\nprint(add)",
      "metadata": {
        "trusted": true
      },
      "outputs": [
        {
          "name": "stdout",
          "text": "130\n",
          "output_type": "stream"
        }
      ],
      "execution_count": 4
    },
    {
      "cell_type": "code",
      "source": "#converting minutes to hours\nminutes=180\nhours=minutes/60\nprint(hours)",
      "metadata": {
        "trusted": true
      },
      "outputs": [
        {
          "name": "stdout",
          "text": "3.0\n",
          "output_type": "stream"
        }
      ],
      "execution_count": 9
    },
    {
      "cell_type": "markdown",
      "source": "## Objectives  \n- Understand the use of Markdown and Code cells.  \n- List data science tools and libraries.  \n- Perform basic arithmetic operations.  ",
      "metadata": {}
    },
    {
      "cell_type": "markdown",
      "source": "## Author  \nAbbas Poonawala",
      "metadata": {}
    }
  ]
}